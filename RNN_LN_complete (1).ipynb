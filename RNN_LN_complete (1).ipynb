{
  "nbformat": 4,
  "nbformat_minor": 0,
  "metadata": {
    "colab": {
      "name": "RNN/LN_complete.ipynb",
      "provenance": [],
      "collapsed_sections": []
    },
    "kernelspec": {
      "name": "python3",
      "display_name": "Python 3"
    },
    "accelerator": "GPU"
  },
  "cells": [
    {
      "cell_type": "markdown",
      "metadata": {
        "id": "-MxFu2FRrU5I"
      },
      "source": [
        "# L'enjeux de ce Tp est d'entrainer un reseau de neuronnes et une OLS regression sur un dataset afin de prédire la consommation d'une voiture (MPG) compte tenu des variables explicatives suivantes : le nombre de cylindres, la puissance du moteur, le poids du véhicule, l'acceleration, l'âge du modele etc "
      ]
    },
    {
      "cell_type": "code",
      "metadata": {
        "colab": {
          "base_uri": "https://localhost:8080/"
        },
        "id": "Bs9r37NIDRF_",
        "outputId": "453508e8-9aec-4aa1-d076-0ad275087094"
      },
      "source": [
        "#INSTALLATION DES FRAMEWORK SEABORN ET TENSORFLOW\n",
        "#use seaborn for pairplot #Librairies Graphique\n",
        "!pip install -q seaborn\n",
        "#Use some functions from tensorflow_docs\n",
        "!pip install -q git+https://github.com/tensorflow/docs"
      ],
      "execution_count": 1,
      "outputs": [
        {
          "output_type": "stream",
          "text": [
            "  Building wheel for tensorflow-docs (setup.py) ... \u001b[?25l\u001b[?25hdone\n",
            "\u001b[33m  WARNING: Built wheel for tensorflow-docs is invalid: Metadata 1.2 mandates PEP 440 version, but '0.0.04fb5626d53bb4c8797f65e1d352bb1556ba10d72-' is not\u001b[0m\n",
            "    Running setup.py install for tensorflow-docs ... \u001b[?25l\u001b[?25hdone\n",
            "\u001b[33m  DEPRECATION: tensorflow-docs was installed using the legacy 'setup.py install' method, because a wheel could not be built for it. A possible replacement is to fix the wheel build issue reported above. You can find discussion regarding this at https://github.com/pypa/pip/issues/8368.\u001b[0m\n"
          ],
          "name": "stdout"
        }
      ]
    },
    {
      "cell_type": "code",
      "metadata": {
        "id": "cq_B96kHEJWO"
      },
      "source": [
        "# Import de tensorflow_docs\n",
        "import tensorflow_docs as tfdocs\n",
        "import tensorflow_docs.plots\n",
        "import tensorflow_docs.modeling"
      ],
      "execution_count": 2,
      "outputs": []
    },
    {
      "cell_type": "code",
      "metadata": {
        "colab": {
          "base_uri": "https://localhost:8080/"
        },
        "id": "mJyWa9vYEVcb",
        "outputId": "08dd0534-79f6-494e-bb2e-9ef0b52a0a33"
      },
      "source": [
        "# Import de tensorflow et keras \n",
        "#(partie permettant d'utiliser tensorflow sans utiiser de librairies complexes)\n",
        "import tensorflow as tf\n",
        "from tensorflow import keras\n",
        "#Dans tf, on récupère la liste de device sur la machine\n",
        "for d in tf.config.list_physical_devices(device_type=None):\n",
        "  print('device found[{1}] : {0}'.format(d.name, d.device_type))\n",
        "#Info sur la Version de Tensorflow\n",
        "print('tensorflow version {0}'.format(tf.__version__))"
      ],
      "execution_count": 3,
      "outputs": [
        {
          "output_type": "stream",
          "text": [
            "device found[CPU] : /physical_device:CPU:0\n",
            "device found[GPU] : /physical_device:GPU:0\n",
            "tensorflow version 2.6.0\n"
          ],
          "name": "stdout"
        }
      ]
    },
    {
      "cell_type": "code",
      "metadata": {
        "colab": {
          "base_uri": "https://localhost:8080/"
        },
        "id": "3IAeKl9xEzRr",
        "outputId": "88252f12-f13e-476f-981c-b3243246c191"
      },
      "source": [
        "device_name = tf.test.gpu_device_name()\n",
        "if device_name != '/device:GPU:0':\n",
        "  raise SystemError('GPU device not found')\n",
        "print('Found GPU at: {}'.format(device_name))"
      ],
      "execution_count": 4,
      "outputs": [
        {
          "output_type": "stream",
          "text": [
            "Found GPU at: /device:GPU:0\n"
          ],
          "name": "stdout"
        }
      ]
    },
    {
      "cell_type": "code",
      "metadata": {
        "id": "LcNyzbiGLFzb"
      },
      "source": [
        "#Import des librairies nécessaires\n",
        "\n",
        "from __future__ import absolute_import, division, print_function, unicode_literals\n",
        "\n",
        "import pathlib\n",
        "\n",
        "#Solution Graphique \n",
        "import matplotlib.pyplot as plt\n",
        "#Base de Mathématiques sur Python\n",
        "import numpy as np\n",
        "#Solution Graphique (DataFrame)\n",
        "import pandas as pd\n",
        "#Solution Graphique\n",
        "import seaborn as sns"
      ],
      "execution_count": 5,
      "outputs": []
    },
    {
      "cell_type": "markdown",
      "metadata": {
        "id": "4MBmlSUfgMdU"
      },
      "source": [
        "DATASET MANAGEMENT"
      ]
    },
    {
      "cell_type": "code",
      "metadata": {
        "colab": {
          "base_uri": "https://localhost:8080/",
          "height": 89
        },
        "id": "uKpMS5MLgHWt",
        "outputId": "7bf95ba4-5410-431c-dad5-1d0204cc050b"
      },
      "source": [
        "#On récupère le dataset puis on le charge\n",
        "dataset_path = keras.utils.get_file(\"auto-mpg.data\", \"http://archive.ics.uci.edu/ml/machine-learning-databases/auto-mpg/auto-mpg.data\")\n",
        "dataset_path"
      ],
      "execution_count": 6,
      "outputs": [
        {
          "output_type": "stream",
          "text": [
            "Downloading data from http://archive.ics.uci.edu/ml/machine-learning-databases/auto-mpg/auto-mpg.data\n",
            "32768/30286 [================================] - 0s 4us/step\n",
            "40960/30286 [========================================] - 0s 3us/step\n"
          ],
          "name": "stdout"
        },
        {
          "output_type": "execute_result",
          "data": {
            "application/vnd.google.colaboratory.intrinsic+json": {
              "type": "string"
            },
            "text/plain": [
              "'/root/.keras/datasets/auto-mpg.data'"
            ]
          },
          "metadata": {},
          "execution_count": 6
        }
      ]
    },
    {
      "cell_type": "code",
      "metadata": {
        "colab": {
          "base_uri": "https://localhost:8080/",
          "height": 359
        },
        "id": "YSIhcTUkiPfO",
        "outputId": "617b24c9-45b4-4674-ee79-390e272a4a28"
      },
      "source": [
        "#On rajoute un Header (Titre des colonnes)\n",
        "column_names = ['MPG', 'Cylinders','Displacement','Horsepower','Weight',\n",
        "                'Acceleration','Model Year', 'Origin']\n",
        "\n",
        "# MPG représente la consommation du véhicule ( miles per gallon)\n",
        "\n",
        "#On défini comment faire apparaitre les valeurs vides + le séparateur              \n",
        "raw_dataset = pd.read_csv(dataset_path, names=column_names,\n",
        "                          na_values = \"?\", comment='\\t',\n",
        "                        sep=\" \", skipinitialspace = True)\n",
        "\n",
        "dataset = raw_dataset.copy()\n",
        "#On fait apparaître les 10 dernières valeurs du fichiers\n",
        "dataset.tail(10)"
      ],
      "execution_count": 7,
      "outputs": [
        {
          "output_type": "execute_result",
          "data": {
            "text/html": [
              "<div>\n",
              "<style scoped>\n",
              "    .dataframe tbody tr th:only-of-type {\n",
              "        vertical-align: middle;\n",
              "    }\n",
              "\n",
              "    .dataframe tbody tr th {\n",
              "        vertical-align: top;\n",
              "    }\n",
              "\n",
              "    .dataframe thead th {\n",
              "        text-align: right;\n",
              "    }\n",
              "</style>\n",
              "<table border=\"1\" class=\"dataframe\">\n",
              "  <thead>\n",
              "    <tr style=\"text-align: right;\">\n",
              "      <th></th>\n",
              "      <th>MPG</th>\n",
              "      <th>Cylinders</th>\n",
              "      <th>Displacement</th>\n",
              "      <th>Horsepower</th>\n",
              "      <th>Weight</th>\n",
              "      <th>Acceleration</th>\n",
              "      <th>Model Year</th>\n",
              "      <th>Origin</th>\n",
              "    </tr>\n",
              "  </thead>\n",
              "  <tbody>\n",
              "    <tr>\n",
              "      <th>388</th>\n",
              "      <td>26.0</td>\n",
              "      <td>4</td>\n",
              "      <td>156.0</td>\n",
              "      <td>92.0</td>\n",
              "      <td>2585.0</td>\n",
              "      <td>14.5</td>\n",
              "      <td>82</td>\n",
              "      <td>1</td>\n",
              "    </tr>\n",
              "    <tr>\n",
              "      <th>389</th>\n",
              "      <td>22.0</td>\n",
              "      <td>6</td>\n",
              "      <td>232.0</td>\n",
              "      <td>112.0</td>\n",
              "      <td>2835.0</td>\n",
              "      <td>14.7</td>\n",
              "      <td>82</td>\n",
              "      <td>1</td>\n",
              "    </tr>\n",
              "    <tr>\n",
              "      <th>390</th>\n",
              "      <td>32.0</td>\n",
              "      <td>4</td>\n",
              "      <td>144.0</td>\n",
              "      <td>96.0</td>\n",
              "      <td>2665.0</td>\n",
              "      <td>13.9</td>\n",
              "      <td>82</td>\n",
              "      <td>3</td>\n",
              "    </tr>\n",
              "    <tr>\n",
              "      <th>391</th>\n",
              "      <td>36.0</td>\n",
              "      <td>4</td>\n",
              "      <td>135.0</td>\n",
              "      <td>84.0</td>\n",
              "      <td>2370.0</td>\n",
              "      <td>13.0</td>\n",
              "      <td>82</td>\n",
              "      <td>1</td>\n",
              "    </tr>\n",
              "    <tr>\n",
              "      <th>392</th>\n",
              "      <td>27.0</td>\n",
              "      <td>4</td>\n",
              "      <td>151.0</td>\n",
              "      <td>90.0</td>\n",
              "      <td>2950.0</td>\n",
              "      <td>17.3</td>\n",
              "      <td>82</td>\n",
              "      <td>1</td>\n",
              "    </tr>\n",
              "    <tr>\n",
              "      <th>393</th>\n",
              "      <td>27.0</td>\n",
              "      <td>4</td>\n",
              "      <td>140.0</td>\n",
              "      <td>86.0</td>\n",
              "      <td>2790.0</td>\n",
              "      <td>15.6</td>\n",
              "      <td>82</td>\n",
              "      <td>1</td>\n",
              "    </tr>\n",
              "    <tr>\n",
              "      <th>394</th>\n",
              "      <td>44.0</td>\n",
              "      <td>4</td>\n",
              "      <td>97.0</td>\n",
              "      <td>52.0</td>\n",
              "      <td>2130.0</td>\n",
              "      <td>24.6</td>\n",
              "      <td>82</td>\n",
              "      <td>2</td>\n",
              "    </tr>\n",
              "    <tr>\n",
              "      <th>395</th>\n",
              "      <td>32.0</td>\n",
              "      <td>4</td>\n",
              "      <td>135.0</td>\n",
              "      <td>84.0</td>\n",
              "      <td>2295.0</td>\n",
              "      <td>11.6</td>\n",
              "      <td>82</td>\n",
              "      <td>1</td>\n",
              "    </tr>\n",
              "    <tr>\n",
              "      <th>396</th>\n",
              "      <td>28.0</td>\n",
              "      <td>4</td>\n",
              "      <td>120.0</td>\n",
              "      <td>79.0</td>\n",
              "      <td>2625.0</td>\n",
              "      <td>18.6</td>\n",
              "      <td>82</td>\n",
              "      <td>1</td>\n",
              "    </tr>\n",
              "    <tr>\n",
              "      <th>397</th>\n",
              "      <td>31.0</td>\n",
              "      <td>4</td>\n",
              "      <td>119.0</td>\n",
              "      <td>82.0</td>\n",
              "      <td>2720.0</td>\n",
              "      <td>19.4</td>\n",
              "      <td>82</td>\n",
              "      <td>1</td>\n",
              "    </tr>\n",
              "  </tbody>\n",
              "</table>\n",
              "</div>"
            ],
            "text/plain": [
              "      MPG  Cylinders  Displacement  ...  Acceleration  Model Year  Origin\n",
              "388  26.0          4         156.0  ...          14.5          82       1\n",
              "389  22.0          6         232.0  ...          14.7          82       1\n",
              "390  32.0          4         144.0  ...          13.9          82       3\n",
              "391  36.0          4         135.0  ...          13.0          82       1\n",
              "392  27.0          4         151.0  ...          17.3          82       1\n",
              "393  27.0          4         140.0  ...          15.6          82       1\n",
              "394  44.0          4          97.0  ...          24.6          82       2\n",
              "395  32.0          4         135.0  ...          11.6          82       1\n",
              "396  28.0          4         120.0  ...          18.6          82       1\n",
              "397  31.0          4         119.0  ...          19.4          82       1\n",
              "\n",
              "[10 rows x 8 columns]"
            ]
          },
          "metadata": {},
          "execution_count": 7
        }
      ]
    },
    {
      "cell_type": "code",
      "metadata": {
        "colab": {
          "base_uri": "https://localhost:8080/"
        },
        "id": "8ycGr0Vzi6Zf",
        "outputId": "88e70347-2e24-43cb-e9b6-1c359e3c803c"
      },
      "source": [
        "#Fais apparaître les valeurs manquantes\n",
        "dataset.isna().sum()"
      ],
      "execution_count": 8,
      "outputs": [
        {
          "output_type": "execute_result",
          "data": {
            "text/plain": [
              "MPG             0\n",
              "Cylinders       0\n",
              "Displacement    0\n",
              "Horsepower      6\n",
              "Weight          0\n",
              "Acceleration    0\n",
              "Model Year      0\n",
              "Origin          0\n",
              "dtype: int64"
            ]
          },
          "metadata": {},
          "execution_count": 8
        }
      ]
    },
    {
      "cell_type": "code",
      "metadata": {
        "id": "PSOsWSnOkifh"
      },
      "source": [
        "#dropna : supprime toutes les lignes où il y a une valeur vide\n",
        "dataset = dataset.dropna()"
      ],
      "execution_count": 9,
      "outputs": []
    },
    {
      "cell_type": "code",
      "metadata": {
        "colab": {
          "base_uri": "https://localhost:8080/",
          "height": 297
        },
        "id": "dALpO4wIk6w3",
        "outputId": "de87bf94-1299-467f-b3e8-009d72a4adfd"
      },
      "source": [
        "#Fais apparaître les données statistiques primaires du dataset\n",
        "dataset.describe()\n",
        "\n",
        "#Featurisation : comment transformer les données pour en extraire un maximum de valeurs \n",
        "# Ici, l'origine du véhicule nous est donné avec un rendu pas pertinent\n",
        "\n",
        "#Ce genre de fonction est fondamental pour faire une expertise, un tas d'information\n",
        "#peuvent en être extraites => Ex la voiture la plus ancienne date de 1970, la plus \n",
        "#récente date de 1982. 50% des véhicules date d'avant 1973. "
      ],
      "execution_count": 10,
      "outputs": [
        {
          "output_type": "execute_result",
          "data": {
            "text/html": [
              "<div>\n",
              "<style scoped>\n",
              "    .dataframe tbody tr th:only-of-type {\n",
              "        vertical-align: middle;\n",
              "    }\n",
              "\n",
              "    .dataframe tbody tr th {\n",
              "        vertical-align: top;\n",
              "    }\n",
              "\n",
              "    .dataframe thead th {\n",
              "        text-align: right;\n",
              "    }\n",
              "</style>\n",
              "<table border=\"1\" class=\"dataframe\">\n",
              "  <thead>\n",
              "    <tr style=\"text-align: right;\">\n",
              "      <th></th>\n",
              "      <th>MPG</th>\n",
              "      <th>Cylinders</th>\n",
              "      <th>Displacement</th>\n",
              "      <th>Horsepower</th>\n",
              "      <th>Weight</th>\n",
              "      <th>Acceleration</th>\n",
              "      <th>Model Year</th>\n",
              "      <th>Origin</th>\n",
              "    </tr>\n",
              "  </thead>\n",
              "  <tbody>\n",
              "    <tr>\n",
              "      <th>count</th>\n",
              "      <td>392.000000</td>\n",
              "      <td>392.000000</td>\n",
              "      <td>392.000000</td>\n",
              "      <td>392.000000</td>\n",
              "      <td>392.000000</td>\n",
              "      <td>392.000000</td>\n",
              "      <td>392.000000</td>\n",
              "      <td>392.000000</td>\n",
              "    </tr>\n",
              "    <tr>\n",
              "      <th>mean</th>\n",
              "      <td>23.445918</td>\n",
              "      <td>5.471939</td>\n",
              "      <td>194.411990</td>\n",
              "      <td>104.469388</td>\n",
              "      <td>2977.584184</td>\n",
              "      <td>15.541327</td>\n",
              "      <td>75.979592</td>\n",
              "      <td>1.576531</td>\n",
              "    </tr>\n",
              "    <tr>\n",
              "      <th>std</th>\n",
              "      <td>7.805007</td>\n",
              "      <td>1.705783</td>\n",
              "      <td>104.644004</td>\n",
              "      <td>38.491160</td>\n",
              "      <td>849.402560</td>\n",
              "      <td>2.758864</td>\n",
              "      <td>3.683737</td>\n",
              "      <td>0.805518</td>\n",
              "    </tr>\n",
              "    <tr>\n",
              "      <th>min</th>\n",
              "      <td>9.000000</td>\n",
              "      <td>3.000000</td>\n",
              "      <td>68.000000</td>\n",
              "      <td>46.000000</td>\n",
              "      <td>1613.000000</td>\n",
              "      <td>8.000000</td>\n",
              "      <td>70.000000</td>\n",
              "      <td>1.000000</td>\n",
              "    </tr>\n",
              "    <tr>\n",
              "      <th>25%</th>\n",
              "      <td>17.000000</td>\n",
              "      <td>4.000000</td>\n",
              "      <td>105.000000</td>\n",
              "      <td>75.000000</td>\n",
              "      <td>2225.250000</td>\n",
              "      <td>13.775000</td>\n",
              "      <td>73.000000</td>\n",
              "      <td>1.000000</td>\n",
              "    </tr>\n",
              "    <tr>\n",
              "      <th>50%</th>\n",
              "      <td>22.750000</td>\n",
              "      <td>4.000000</td>\n",
              "      <td>151.000000</td>\n",
              "      <td>93.500000</td>\n",
              "      <td>2803.500000</td>\n",
              "      <td>15.500000</td>\n",
              "      <td>76.000000</td>\n",
              "      <td>1.000000</td>\n",
              "    </tr>\n",
              "    <tr>\n",
              "      <th>75%</th>\n",
              "      <td>29.000000</td>\n",
              "      <td>8.000000</td>\n",
              "      <td>275.750000</td>\n",
              "      <td>126.000000</td>\n",
              "      <td>3614.750000</td>\n",
              "      <td>17.025000</td>\n",
              "      <td>79.000000</td>\n",
              "      <td>2.000000</td>\n",
              "    </tr>\n",
              "    <tr>\n",
              "      <th>max</th>\n",
              "      <td>46.600000</td>\n",
              "      <td>8.000000</td>\n",
              "      <td>455.000000</td>\n",
              "      <td>230.000000</td>\n",
              "      <td>5140.000000</td>\n",
              "      <td>24.800000</td>\n",
              "      <td>82.000000</td>\n",
              "      <td>3.000000</td>\n",
              "    </tr>\n",
              "  </tbody>\n",
              "</table>\n",
              "</div>"
            ],
            "text/plain": [
              "              MPG   Cylinders  ...  Model Year      Origin\n",
              "count  392.000000  392.000000  ...  392.000000  392.000000\n",
              "mean    23.445918    5.471939  ...   75.979592    1.576531\n",
              "std      7.805007    1.705783  ...    3.683737    0.805518\n",
              "min      9.000000    3.000000  ...   70.000000    1.000000\n",
              "25%     17.000000    4.000000  ...   73.000000    1.000000\n",
              "50%     22.750000    4.000000  ...   76.000000    1.000000\n",
              "75%     29.000000    8.000000  ...   79.000000    2.000000\n",
              "max     46.600000    8.000000  ...   82.000000    3.000000\n",
              "\n",
              "[8 rows x 8 columns]"
            ]
          },
          "metadata": {},
          "execution_count": 10
        }
      ]
    },
    {
      "cell_type": "code",
      "metadata": {
        "id": "7HyfggLnmRwi"
      },
      "source": [
        "#Comment gérer les données temporelles ?\n",
        "#On transforme la donnée temporelle des dates en âge afin qu'elle soit quantitative\n",
        "from datetime import datetime\n",
        "year = datetime.now().year\n",
        "\n",
        "dataset['Model Year'] = dataset['Model Year'] + 1900"
      ],
      "execution_count": 11,
      "outputs": []
    },
    {
      "cell_type": "code",
      "metadata": {
        "colab": {
          "base_uri": "https://localhost:8080/",
          "height": 204
        },
        "id": "yNjDiS6ssW7I",
        "outputId": "4a123c64-f285-420b-f68a-d68fe2805868"
      },
      "source": [
        "#L'âge du véhicule est égale à Notre Année (donc year) - Date de sortie\n",
        "#On ajoute une nouvelle colonne 'Model Age' au Dataframe \n",
        "#On se débarasse de Model Year\n",
        "dataset['Model Age'] = year - dataset['Model Year']\n",
        "dataset.pop('Model Year')\n",
        "dataset.head()"
      ],
      "execution_count": 12,
      "outputs": [
        {
          "output_type": "execute_result",
          "data": {
            "text/html": [
              "<div>\n",
              "<style scoped>\n",
              "    .dataframe tbody tr th:only-of-type {\n",
              "        vertical-align: middle;\n",
              "    }\n",
              "\n",
              "    .dataframe tbody tr th {\n",
              "        vertical-align: top;\n",
              "    }\n",
              "\n",
              "    .dataframe thead th {\n",
              "        text-align: right;\n",
              "    }\n",
              "</style>\n",
              "<table border=\"1\" class=\"dataframe\">\n",
              "  <thead>\n",
              "    <tr style=\"text-align: right;\">\n",
              "      <th></th>\n",
              "      <th>MPG</th>\n",
              "      <th>Cylinders</th>\n",
              "      <th>Displacement</th>\n",
              "      <th>Horsepower</th>\n",
              "      <th>Weight</th>\n",
              "      <th>Acceleration</th>\n",
              "      <th>Origin</th>\n",
              "      <th>Model Age</th>\n",
              "    </tr>\n",
              "  </thead>\n",
              "  <tbody>\n",
              "    <tr>\n",
              "      <th>0</th>\n",
              "      <td>18.0</td>\n",
              "      <td>8</td>\n",
              "      <td>307.0</td>\n",
              "      <td>130.0</td>\n",
              "      <td>3504.0</td>\n",
              "      <td>12.0</td>\n",
              "      <td>1</td>\n",
              "      <td>51</td>\n",
              "    </tr>\n",
              "    <tr>\n",
              "      <th>1</th>\n",
              "      <td>15.0</td>\n",
              "      <td>8</td>\n",
              "      <td>350.0</td>\n",
              "      <td>165.0</td>\n",
              "      <td>3693.0</td>\n",
              "      <td>11.5</td>\n",
              "      <td>1</td>\n",
              "      <td>51</td>\n",
              "    </tr>\n",
              "    <tr>\n",
              "      <th>2</th>\n",
              "      <td>18.0</td>\n",
              "      <td>8</td>\n",
              "      <td>318.0</td>\n",
              "      <td>150.0</td>\n",
              "      <td>3436.0</td>\n",
              "      <td>11.0</td>\n",
              "      <td>1</td>\n",
              "      <td>51</td>\n",
              "    </tr>\n",
              "    <tr>\n",
              "      <th>3</th>\n",
              "      <td>16.0</td>\n",
              "      <td>8</td>\n",
              "      <td>304.0</td>\n",
              "      <td>150.0</td>\n",
              "      <td>3433.0</td>\n",
              "      <td>12.0</td>\n",
              "      <td>1</td>\n",
              "      <td>51</td>\n",
              "    </tr>\n",
              "    <tr>\n",
              "      <th>4</th>\n",
              "      <td>17.0</td>\n",
              "      <td>8</td>\n",
              "      <td>302.0</td>\n",
              "      <td>140.0</td>\n",
              "      <td>3449.0</td>\n",
              "      <td>10.5</td>\n",
              "      <td>1</td>\n",
              "      <td>51</td>\n",
              "    </tr>\n",
              "  </tbody>\n",
              "</table>\n",
              "</div>"
            ],
            "text/plain": [
              "    MPG  Cylinders  Displacement  ...  Acceleration  Origin  Model Age\n",
              "0  18.0          8         307.0  ...          12.0       1         51\n",
              "1  15.0          8         350.0  ...          11.5       1         51\n",
              "2  18.0          8         318.0  ...          11.0       1         51\n",
              "3  16.0          8         304.0  ...          12.0       1         51\n",
              "4  17.0          8         302.0  ...          10.5       1         51\n",
              "\n",
              "[5 rows x 8 columns]"
            ]
          },
          "metadata": {},
          "execution_count": 12
        }
      ]
    },
    {
      "cell_type": "code",
      "metadata": {
        "colab": {
          "base_uri": "https://localhost:8080/",
          "height": 297
        },
        "id": "YVPzXqn8tRSU",
        "outputId": "023f5117-d493-41d1-cd10-1a5974fbd59b"
      },
      "source": [
        "dataset[dataset.Origin==1].describe().transpose()"
      ],
      "execution_count": 13,
      "outputs": [
        {
          "output_type": "execute_result",
          "data": {
            "text/html": [
              "<div>\n",
              "<style scoped>\n",
              "    .dataframe tbody tr th:only-of-type {\n",
              "        vertical-align: middle;\n",
              "    }\n",
              "\n",
              "    .dataframe tbody tr th {\n",
              "        vertical-align: top;\n",
              "    }\n",
              "\n",
              "    .dataframe thead th {\n",
              "        text-align: right;\n",
              "    }\n",
              "</style>\n",
              "<table border=\"1\" class=\"dataframe\">\n",
              "  <thead>\n",
              "    <tr style=\"text-align: right;\">\n",
              "      <th></th>\n",
              "      <th>count</th>\n",
              "      <th>mean</th>\n",
              "      <th>std</th>\n",
              "      <th>min</th>\n",
              "      <th>25%</th>\n",
              "      <th>50%</th>\n",
              "      <th>75%</th>\n",
              "      <th>max</th>\n",
              "    </tr>\n",
              "  </thead>\n",
              "  <tbody>\n",
              "    <tr>\n",
              "      <th>MPG</th>\n",
              "      <td>245.0</td>\n",
              "      <td>20.033469</td>\n",
              "      <td>6.440384</td>\n",
              "      <td>9.0</td>\n",
              "      <td>15.0</td>\n",
              "      <td>18.5</td>\n",
              "      <td>24.0</td>\n",
              "      <td>39.0</td>\n",
              "    </tr>\n",
              "    <tr>\n",
              "      <th>Cylinders</th>\n",
              "      <td>245.0</td>\n",
              "      <td>6.277551</td>\n",
              "      <td>1.655996</td>\n",
              "      <td>4.0</td>\n",
              "      <td>4.0</td>\n",
              "      <td>6.0</td>\n",
              "      <td>8.0</td>\n",
              "      <td>8.0</td>\n",
              "    </tr>\n",
              "    <tr>\n",
              "      <th>Displacement</th>\n",
              "      <td>245.0</td>\n",
              "      <td>247.512245</td>\n",
              "      <td>98.376347</td>\n",
              "      <td>85.0</td>\n",
              "      <td>151.0</td>\n",
              "      <td>250.0</td>\n",
              "      <td>318.0</td>\n",
              "      <td>455.0</td>\n",
              "    </tr>\n",
              "    <tr>\n",
              "      <th>Horsepower</th>\n",
              "      <td>245.0</td>\n",
              "      <td>119.048980</td>\n",
              "      <td>39.897790</td>\n",
              "      <td>52.0</td>\n",
              "      <td>88.0</td>\n",
              "      <td>105.0</td>\n",
              "      <td>150.0</td>\n",
              "      <td>230.0</td>\n",
              "    </tr>\n",
              "    <tr>\n",
              "      <th>Weight</th>\n",
              "      <td>245.0</td>\n",
              "      <td>3372.489796</td>\n",
              "      <td>795.346690</td>\n",
              "      <td>1800.0</td>\n",
              "      <td>2720.0</td>\n",
              "      <td>3381.0</td>\n",
              "      <td>4055.0</td>\n",
              "      <td>5140.0</td>\n",
              "    </tr>\n",
              "    <tr>\n",
              "      <th>Acceleration</th>\n",
              "      <td>245.0</td>\n",
              "      <td>14.990204</td>\n",
              "      <td>2.736020</td>\n",
              "      <td>8.0</td>\n",
              "      <td>13.0</td>\n",
              "      <td>15.0</td>\n",
              "      <td>16.7</td>\n",
              "      <td>22.2</td>\n",
              "    </tr>\n",
              "    <tr>\n",
              "      <th>Origin</th>\n",
              "      <td>245.0</td>\n",
              "      <td>1.000000</td>\n",
              "      <td>0.000000</td>\n",
              "      <td>1.0</td>\n",
              "      <td>1.0</td>\n",
              "      <td>1.0</td>\n",
              "      <td>1.0</td>\n",
              "      <td>1.0</td>\n",
              "    </tr>\n",
              "    <tr>\n",
              "      <th>Model Age</th>\n",
              "      <td>245.0</td>\n",
              "      <td>45.408163</td>\n",
              "      <td>3.660368</td>\n",
              "      <td>39.0</td>\n",
              "      <td>43.0</td>\n",
              "      <td>45.0</td>\n",
              "      <td>48.0</td>\n",
              "      <td>51.0</td>\n",
              "    </tr>\n",
              "  </tbody>\n",
              "</table>\n",
              "</div>"
            ],
            "text/plain": [
              "              count         mean         std  ...     50%     75%     max\n",
              "MPG           245.0    20.033469    6.440384  ...    18.5    24.0    39.0\n",
              "Cylinders     245.0     6.277551    1.655996  ...     6.0     8.0     8.0\n",
              "Displacement  245.0   247.512245   98.376347  ...   250.0   318.0   455.0\n",
              "Horsepower    245.0   119.048980   39.897790  ...   105.0   150.0   230.0\n",
              "Weight        245.0  3372.489796  795.346690  ...  3381.0  4055.0  5140.0\n",
              "Acceleration  245.0    14.990204    2.736020  ...    15.0    16.7    22.2\n",
              "Origin        245.0     1.000000    0.000000  ...     1.0     1.0     1.0\n",
              "Model Age     245.0    45.408163    3.660368  ...    45.0    48.0    51.0\n",
              "\n",
              "[8 rows x 8 columns]"
            ]
          },
          "metadata": {},
          "execution_count": 13
        }
      ]
    },
    {
      "cell_type": "code",
      "metadata": {
        "colab": {
          "base_uri": "https://localhost:8080/"
        },
        "id": "XV5uwSI9t0YF",
        "outputId": "7601624d-783c-496d-b05d-9c0e2f512706"
      },
      "source": [
        "#Création d'une map\n",
        "dataset['Origin'] = dataset['Origin'].map({1: 'USA', 2: 'Europe', 3: 'Japan'})\n",
        "dataset.dtypes"
      ],
      "execution_count": 14,
      "outputs": [
        {
          "output_type": "execute_result",
          "data": {
            "text/plain": [
              "MPG             float64\n",
              "Cylinders         int64\n",
              "Displacement    float64\n",
              "Horsepower      float64\n",
              "Weight          float64\n",
              "Acceleration    float64\n",
              "Origin           object\n",
              "Model Age         int64\n",
              "dtype: object"
            ]
          },
          "metadata": {},
          "execution_count": 14
        }
      ]
    },
    {
      "cell_type": "code",
      "metadata": {
        "colab": {
          "base_uri": "https://localhost:8080/",
          "height": 204
        },
        "id": "hfBGXGaCuVBR",
        "outputId": "806fe2ca-0ff5-487e-89bd-896931c64399"
      },
      "source": [
        "#On a remplacé la valeur numérique par la correspondance du dictionnaire en texte\n",
        "dataset.head()"
      ],
      "execution_count": 15,
      "outputs": [
        {
          "output_type": "execute_result",
          "data": {
            "text/html": [
              "<div>\n",
              "<style scoped>\n",
              "    .dataframe tbody tr th:only-of-type {\n",
              "        vertical-align: middle;\n",
              "    }\n",
              "\n",
              "    .dataframe tbody tr th {\n",
              "        vertical-align: top;\n",
              "    }\n",
              "\n",
              "    .dataframe thead th {\n",
              "        text-align: right;\n",
              "    }\n",
              "</style>\n",
              "<table border=\"1\" class=\"dataframe\">\n",
              "  <thead>\n",
              "    <tr style=\"text-align: right;\">\n",
              "      <th></th>\n",
              "      <th>MPG</th>\n",
              "      <th>Cylinders</th>\n",
              "      <th>Displacement</th>\n",
              "      <th>Horsepower</th>\n",
              "      <th>Weight</th>\n",
              "      <th>Acceleration</th>\n",
              "      <th>Origin</th>\n",
              "      <th>Model Age</th>\n",
              "    </tr>\n",
              "  </thead>\n",
              "  <tbody>\n",
              "    <tr>\n",
              "      <th>0</th>\n",
              "      <td>18.0</td>\n",
              "      <td>8</td>\n",
              "      <td>307.0</td>\n",
              "      <td>130.0</td>\n",
              "      <td>3504.0</td>\n",
              "      <td>12.0</td>\n",
              "      <td>USA</td>\n",
              "      <td>51</td>\n",
              "    </tr>\n",
              "    <tr>\n",
              "      <th>1</th>\n",
              "      <td>15.0</td>\n",
              "      <td>8</td>\n",
              "      <td>350.0</td>\n",
              "      <td>165.0</td>\n",
              "      <td>3693.0</td>\n",
              "      <td>11.5</td>\n",
              "      <td>USA</td>\n",
              "      <td>51</td>\n",
              "    </tr>\n",
              "    <tr>\n",
              "      <th>2</th>\n",
              "      <td>18.0</td>\n",
              "      <td>8</td>\n",
              "      <td>318.0</td>\n",
              "      <td>150.0</td>\n",
              "      <td>3436.0</td>\n",
              "      <td>11.0</td>\n",
              "      <td>USA</td>\n",
              "      <td>51</td>\n",
              "    </tr>\n",
              "    <tr>\n",
              "      <th>3</th>\n",
              "      <td>16.0</td>\n",
              "      <td>8</td>\n",
              "      <td>304.0</td>\n",
              "      <td>150.0</td>\n",
              "      <td>3433.0</td>\n",
              "      <td>12.0</td>\n",
              "      <td>USA</td>\n",
              "      <td>51</td>\n",
              "    </tr>\n",
              "    <tr>\n",
              "      <th>4</th>\n",
              "      <td>17.0</td>\n",
              "      <td>8</td>\n",
              "      <td>302.0</td>\n",
              "      <td>140.0</td>\n",
              "      <td>3449.0</td>\n",
              "      <td>10.5</td>\n",
              "      <td>USA</td>\n",
              "      <td>51</td>\n",
              "    </tr>\n",
              "  </tbody>\n",
              "</table>\n",
              "</div>"
            ],
            "text/plain": [
              "    MPG  Cylinders  Displacement  ...  Acceleration  Origin  Model Age\n",
              "0  18.0          8         307.0  ...          12.0     USA         51\n",
              "1  15.0          8         350.0  ...          11.5     USA         51\n",
              "2  18.0          8         318.0  ...          11.0     USA         51\n",
              "3  16.0          8         304.0  ...          12.0     USA         51\n",
              "4  17.0          8         302.0  ...          10.5     USA         51\n",
              "\n",
              "[5 rows x 8 columns]"
            ]
          },
          "metadata": {},
          "execution_count": 15
        }
      ]
    },
    {
      "cell_type": "code",
      "metadata": {
        "colab": {
          "base_uri": "https://localhost:8080/",
          "height": 204
        },
        "id": "gQ9SqlR9uiDG",
        "outputId": "6d57879e-21ff-4a69-c34e-10218057c006"
      },
      "source": [
        "#dataset['Origin'] = dataset['Origin'].map({1: 'USA',2: 'Europe', 3: 'Japan'})\n",
        "\n",
        "#On va dummifier la variable Origin => classification\n",
        "#La fonction a reconnu Origin car c'est le seul type object\n",
        "\n",
        "dataset= pd.get_dummies(dataset, prefix= '', prefix_sep='')\n",
        "dataset.tail()"
      ],
      "execution_count": 16,
      "outputs": [
        {
          "output_type": "execute_result",
          "data": {
            "text/html": [
              "<div>\n",
              "<style scoped>\n",
              "    .dataframe tbody tr th:only-of-type {\n",
              "        vertical-align: middle;\n",
              "    }\n",
              "\n",
              "    .dataframe tbody tr th {\n",
              "        vertical-align: top;\n",
              "    }\n",
              "\n",
              "    .dataframe thead th {\n",
              "        text-align: right;\n",
              "    }\n",
              "</style>\n",
              "<table border=\"1\" class=\"dataframe\">\n",
              "  <thead>\n",
              "    <tr style=\"text-align: right;\">\n",
              "      <th></th>\n",
              "      <th>MPG</th>\n",
              "      <th>Cylinders</th>\n",
              "      <th>Displacement</th>\n",
              "      <th>Horsepower</th>\n",
              "      <th>Weight</th>\n",
              "      <th>Acceleration</th>\n",
              "      <th>Model Age</th>\n",
              "      <th>Europe</th>\n",
              "      <th>Japan</th>\n",
              "      <th>USA</th>\n",
              "    </tr>\n",
              "  </thead>\n",
              "  <tbody>\n",
              "    <tr>\n",
              "      <th>393</th>\n",
              "      <td>27.0</td>\n",
              "      <td>4</td>\n",
              "      <td>140.0</td>\n",
              "      <td>86.0</td>\n",
              "      <td>2790.0</td>\n",
              "      <td>15.6</td>\n",
              "      <td>39</td>\n",
              "      <td>0</td>\n",
              "      <td>0</td>\n",
              "      <td>1</td>\n",
              "    </tr>\n",
              "    <tr>\n",
              "      <th>394</th>\n",
              "      <td>44.0</td>\n",
              "      <td>4</td>\n",
              "      <td>97.0</td>\n",
              "      <td>52.0</td>\n",
              "      <td>2130.0</td>\n",
              "      <td>24.6</td>\n",
              "      <td>39</td>\n",
              "      <td>1</td>\n",
              "      <td>0</td>\n",
              "      <td>0</td>\n",
              "    </tr>\n",
              "    <tr>\n",
              "      <th>395</th>\n",
              "      <td>32.0</td>\n",
              "      <td>4</td>\n",
              "      <td>135.0</td>\n",
              "      <td>84.0</td>\n",
              "      <td>2295.0</td>\n",
              "      <td>11.6</td>\n",
              "      <td>39</td>\n",
              "      <td>0</td>\n",
              "      <td>0</td>\n",
              "      <td>1</td>\n",
              "    </tr>\n",
              "    <tr>\n",
              "      <th>396</th>\n",
              "      <td>28.0</td>\n",
              "      <td>4</td>\n",
              "      <td>120.0</td>\n",
              "      <td>79.0</td>\n",
              "      <td>2625.0</td>\n",
              "      <td>18.6</td>\n",
              "      <td>39</td>\n",
              "      <td>0</td>\n",
              "      <td>0</td>\n",
              "      <td>1</td>\n",
              "    </tr>\n",
              "    <tr>\n",
              "      <th>397</th>\n",
              "      <td>31.0</td>\n",
              "      <td>4</td>\n",
              "      <td>119.0</td>\n",
              "      <td>82.0</td>\n",
              "      <td>2720.0</td>\n",
              "      <td>19.4</td>\n",
              "      <td>39</td>\n",
              "      <td>0</td>\n",
              "      <td>0</td>\n",
              "      <td>1</td>\n",
              "    </tr>\n",
              "  </tbody>\n",
              "</table>\n",
              "</div>"
            ],
            "text/plain": [
              "      MPG  Cylinders  Displacement  Horsepower  ...  Model Age  Europe  Japan  USA\n",
              "393  27.0          4         140.0        86.0  ...         39       0      0    1\n",
              "394  44.0          4          97.0        52.0  ...         39       1      0    0\n",
              "395  32.0          4         135.0        84.0  ...         39       0      0    1\n",
              "396  28.0          4         120.0        79.0  ...         39       0      0    1\n",
              "397  31.0          4         119.0        82.0  ...         39       0      0    1\n",
              "\n",
              "[5 rows x 10 columns]"
            ]
          },
          "metadata": {},
          "execution_count": 16
        }
      ]
    },
    {
      "cell_type": "code",
      "metadata": {
        "id": "bY-EotGQv75t"
      },
      "source": [
        "#Une fois le Dataset préparé,\n",
        "#on crée le dataset d'apprentissage et de test à partir de ces données\n",
        "\n",
        "#On sépare en Train/Test set. Méthode sample pour séparer.\n",
        "#On supprime toutes les données du Train DataSet pour le Test Dataset\n",
        "train_dataset = dataset.sample(frac=0.8, random_state=12345)\n",
        "test_dataset = dataset.drop(train_dataset.index)"
      ],
      "execution_count": 17,
      "outputs": []
    },
    {
      "cell_type": "code",
      "metadata": {
        "colab": {
          "base_uri": "https://localhost:8080/",
          "height": 921
        },
        "id": "am-dqvgCwhVH",
        "outputId": "5c34ac24-32df-4e07-a344-d0a58b028fbe"
      },
      "source": [
        "#Pairplot : Graphique croisée entre chaque variable\n",
        "sns.pairplot(train_dataset[['Horsepower', 'Cylinders', 'Displacement', 'Weight', 'Model Age']], diag_kind = 'kde')"
      ],
      "execution_count": 18,
      "outputs": [
        {
          "output_type": "execute_result",
          "data": {
            "text/plain": [
              "<seaborn.axisgrid.PairGrid at 0x7f3bf7e07f50>"
            ]
          },
          "metadata": {},
          "execution_count": 18
        },
        {
          "output_type": "display_data",
          "data": {
            "image/png": "[encoded data removed]",
            "text/plain": [
              "<Figure size 900x900 with 30 Axes>"
            ]
          },
          "metadata": {
            "needs_background": "light"
          }
        }
      ]
    },
    {
      "cell_type": "code",
      "metadata": {
        "id": "zaTlVr2kumD4"
      },
      "source": [
        "#Colonne ci-dessus : Distribution de Puissance en fonction de l'âge du véhicule"
      ],
      "execution_count": 19,
      "outputs": []
    },
    {
      "cell_type": "markdown",
      "metadata": {
        "id": "dNvgZDvCxBQt"
      },
      "source": [
        "Préparation de la Modélisation "
      ]
    },
    {
      "cell_type": "code",
      "metadata": {
        "colab": {
          "base_uri": "https://localhost:8080/",
          "height": 235
        },
        "id": "W3VSXqSO4DYA",
        "outputId": "aa0967ce-f960-4e06-eef2-37492e0ecffb"
      },
      "source": [
        "train_dataset.head(6)"
      ],
      "execution_count": 20,
      "outputs": [
        {
          "output_type": "execute_result",
          "data": {
            "text/html": [
              "<div>\n",
              "<style scoped>\n",
              "    .dataframe tbody tr th:only-of-type {\n",
              "        vertical-align: middle;\n",
              "    }\n",
              "\n",
              "    .dataframe tbody tr th {\n",
              "        vertical-align: top;\n",
              "    }\n",
              "\n",
              "    .dataframe thead th {\n",
              "        text-align: right;\n",
              "    }\n",
              "</style>\n",
              "<table border=\"1\" class=\"dataframe\">\n",
              "  <thead>\n",
              "    <tr style=\"text-align: right;\">\n",
              "      <th></th>\n",
              "      <th>MPG</th>\n",
              "      <th>Cylinders</th>\n",
              "      <th>Displacement</th>\n",
              "      <th>Horsepower</th>\n",
              "      <th>Weight</th>\n",
              "      <th>Acceleration</th>\n",
              "      <th>Model Age</th>\n",
              "      <th>Europe</th>\n",
              "      <th>Japan</th>\n",
              "      <th>USA</th>\n",
              "    </tr>\n",
              "  </thead>\n",
              "  <tbody>\n",
              "    <tr>\n",
              "      <th>69</th>\n",
              "      <td>12.0</td>\n",
              "      <td>8</td>\n",
              "      <td>350.0</td>\n",
              "      <td>160.0</td>\n",
              "      <td>4456.0</td>\n",
              "      <td>13.5</td>\n",
              "      <td>49</td>\n",
              "      <td>0</td>\n",
              "      <td>0</td>\n",
              "      <td>1</td>\n",
              "    </tr>\n",
              "    <tr>\n",
              "      <th>204</th>\n",
              "      <td>32.0</td>\n",
              "      <td>4</td>\n",
              "      <td>85.0</td>\n",
              "      <td>70.0</td>\n",
              "      <td>1990.0</td>\n",
              "      <td>17.0</td>\n",
              "      <td>45</td>\n",
              "      <td>0</td>\n",
              "      <td>1</td>\n",
              "      <td>0</td>\n",
              "    </tr>\n",
              "    <tr>\n",
              "      <th>156</th>\n",
              "      <td>16.0</td>\n",
              "      <td>8</td>\n",
              "      <td>400.0</td>\n",
              "      <td>170.0</td>\n",
              "      <td>4668.0</td>\n",
              "      <td>11.5</td>\n",
              "      <td>46</td>\n",
              "      <td>0</td>\n",
              "      <td>0</td>\n",
              "      <td>1</td>\n",
              "    </tr>\n",
              "    <tr>\n",
              "      <th>337</th>\n",
              "      <td>32.4</td>\n",
              "      <td>4</td>\n",
              "      <td>107.0</td>\n",
              "      <td>72.0</td>\n",
              "      <td>2290.0</td>\n",
              "      <td>17.0</td>\n",
              "      <td>41</td>\n",
              "      <td>0</td>\n",
              "      <td>1</td>\n",
              "      <td>0</td>\n",
              "    </tr>\n",
              "    <tr>\n",
              "      <th>386</th>\n",
              "      <td>25.0</td>\n",
              "      <td>6</td>\n",
              "      <td>181.0</td>\n",
              "      <td>110.0</td>\n",
              "      <td>2945.0</td>\n",
              "      <td>16.4</td>\n",
              "      <td>39</td>\n",
              "      <td>0</td>\n",
              "      <td>0</td>\n",
              "      <td>1</td>\n",
              "    </tr>\n",
              "    <tr>\n",
              "      <th>56</th>\n",
              "      <td>26.0</td>\n",
              "      <td>4</td>\n",
              "      <td>91.0</td>\n",
              "      <td>70.0</td>\n",
              "      <td>1955.0</td>\n",
              "      <td>20.5</td>\n",
              "      <td>50</td>\n",
              "      <td>0</td>\n",
              "      <td>0</td>\n",
              "      <td>1</td>\n",
              "    </tr>\n",
              "  </tbody>\n",
              "</table>\n",
              "</div>"
            ],
            "text/plain": [
              "      MPG  Cylinders  Displacement  Horsepower  ...  Model Age  Europe  Japan  USA\n",
              "69   12.0          8         350.0       160.0  ...         49       0      0    1\n",
              "204  32.0          4          85.0        70.0  ...         45       0      1    0\n",
              "156  16.0          8         400.0       170.0  ...         46       0      0    1\n",
              "337  32.4          4         107.0        72.0  ...         41       0      1    0\n",
              "386  25.0          6         181.0       110.0  ...         39       0      0    1\n",
              "56   26.0          4          91.0        70.0  ...         50       0      0    1\n",
              "\n",
              "[6 rows x 10 columns]"
            ]
          },
          "metadata": {},
          "execution_count": 20
        }
      ]
    },
    {
      "cell_type": "code",
      "metadata": {
        "id": "TnOa-xGMyR61",
        "colab": {
          "base_uri": "https://localhost:8080/",
          "height": 328
        },
        "outputId": "e27add8a-6206-439f-c9ff-30a5dca3d106"
      },
      "source": [
        "#A partir du Train Dataset, on crée un tableau mémorisant ces statistiques pour chaque variable\n",
        "# On va normaliser/standardiser les variables\n",
        "#On se débarasse de la variable MPG \n",
        "train_stats = train_dataset.describe()\n",
        "train_stats.pop('MPG')\n",
        "train_stats = train_stats.transpose()\n",
        "train_stats"
      ],
      "execution_count": 21,
      "outputs": [
        {
          "output_type": "execute_result",
          "data": {
            "text/html": [
              "<div>\n",
              "<style scoped>\n",
              "    .dataframe tbody tr th:only-of-type {\n",
              "        vertical-align: middle;\n",
              "    }\n",
              "\n",
              "    .dataframe tbody tr th {\n",
              "        vertical-align: top;\n",
              "    }\n",
              "\n",
              "    .dataframe thead th {\n",
              "        text-align: right;\n",
              "    }\n",
              "</style>\n",
              "<table border=\"1\" class=\"dataframe\">\n",
              "  <thead>\n",
              "    <tr style=\"text-align: right;\">\n",
              "      <th></th>\n",
              "      <th>count</th>\n",
              "      <th>mean</th>\n",
              "      <th>std</th>\n",
              "      <th>min</th>\n",
              "      <th>25%</th>\n",
              "      <th>50%</th>\n",
              "      <th>75%</th>\n",
              "      <th>max</th>\n",
              "    </tr>\n",
              "  </thead>\n",
              "  <tbody>\n",
              "    <tr>\n",
              "      <th>Cylinders</th>\n",
              "      <td>314.0</td>\n",
              "      <td>5.490446</td>\n",
              "      <td>1.703662</td>\n",
              "      <td>3.0</td>\n",
              "      <td>4.00</td>\n",
              "      <td>4.0</td>\n",
              "      <td>8.000</td>\n",
              "      <td>8.0</td>\n",
              "    </tr>\n",
              "    <tr>\n",
              "      <th>Displacement</th>\n",
              "      <td>314.0</td>\n",
              "      <td>195.947452</td>\n",
              "      <td>105.279779</td>\n",
              "      <td>68.0</td>\n",
              "      <td>105.00</td>\n",
              "      <td>151.0</td>\n",
              "      <td>293.250</td>\n",
              "      <td>455.0</td>\n",
              "    </tr>\n",
              "    <tr>\n",
              "      <th>Horsepower</th>\n",
              "      <td>314.0</td>\n",
              "      <td>104.767516</td>\n",
              "      <td>39.365171</td>\n",
              "      <td>46.0</td>\n",
              "      <td>75.00</td>\n",
              "      <td>95.0</td>\n",
              "      <td>125.000</td>\n",
              "      <td>230.0</td>\n",
              "    </tr>\n",
              "    <tr>\n",
              "      <th>Weight</th>\n",
              "      <td>314.0</td>\n",
              "      <td>2983.047771</td>\n",
              "      <td>850.072307</td>\n",
              "      <td>1613.0</td>\n",
              "      <td>2223.75</td>\n",
              "      <td>2811.0</td>\n",
              "      <td>3627.500</td>\n",
              "      <td>4997.0</td>\n",
              "    </tr>\n",
              "    <tr>\n",
              "      <th>Acceleration</th>\n",
              "      <td>314.0</td>\n",
              "      <td>15.551911</td>\n",
              "      <td>2.767684</td>\n",
              "      <td>8.0</td>\n",
              "      <td>13.90</td>\n",
              "      <td>15.5</td>\n",
              "      <td>17.175</td>\n",
              "      <td>24.6</td>\n",
              "    </tr>\n",
              "    <tr>\n",
              "      <th>Model Age</th>\n",
              "      <td>314.0</td>\n",
              "      <td>45.022293</td>\n",
              "      <td>3.660882</td>\n",
              "      <td>39.0</td>\n",
              "      <td>42.00</td>\n",
              "      <td>45.0</td>\n",
              "      <td>48.000</td>\n",
              "      <td>51.0</td>\n",
              "    </tr>\n",
              "    <tr>\n",
              "      <th>Europe</th>\n",
              "      <td>314.0</td>\n",
              "      <td>0.171975</td>\n",
              "      <td>0.377961</td>\n",
              "      <td>0.0</td>\n",
              "      <td>0.00</td>\n",
              "      <td>0.0</td>\n",
              "      <td>0.000</td>\n",
              "      <td>1.0</td>\n",
              "    </tr>\n",
              "    <tr>\n",
              "      <th>Japan</th>\n",
              "      <td>314.0</td>\n",
              "      <td>0.197452</td>\n",
              "      <td>0.398712</td>\n",
              "      <td>0.0</td>\n",
              "      <td>0.00</td>\n",
              "      <td>0.0</td>\n",
              "      <td>0.000</td>\n",
              "      <td>1.0</td>\n",
              "    </tr>\n",
              "    <tr>\n",
              "      <th>USA</th>\n",
              "      <td>314.0</td>\n",
              "      <td>0.630573</td>\n",
              "      <td>0.483420</td>\n",
              "      <td>0.0</td>\n",
              "      <td>0.00</td>\n",
              "      <td>1.0</td>\n",
              "      <td>1.000</td>\n",
              "      <td>1.0</td>\n",
              "    </tr>\n",
              "  </tbody>\n",
              "</table>\n",
              "</div>"
            ],
            "text/plain": [
              "              count         mean         std  ...     50%       75%     max\n",
              "Cylinders     314.0     5.490446    1.703662  ...     4.0     8.000     8.0\n",
              "Displacement  314.0   195.947452  105.279779  ...   151.0   293.250   455.0\n",
              "Horsepower    314.0   104.767516   39.365171  ...    95.0   125.000   230.0\n",
              "Weight        314.0  2983.047771  850.072307  ...  2811.0  3627.500  4997.0\n",
              "Acceleration  314.0    15.551911    2.767684  ...    15.5    17.175    24.6\n",
              "Model Age     314.0    45.022293    3.660882  ...    45.0    48.000    51.0\n",
              "Europe        314.0     0.171975    0.377961  ...     0.0     0.000     1.0\n",
              "Japan         314.0     0.197452    0.398712  ...     0.0     0.000     1.0\n",
              "USA           314.0     0.630573    0.483420  ...     1.0     1.000     1.0\n",
              "\n",
              "[9 rows x 8 columns]"
            ]
          },
          "metadata": {},
          "execution_count": 21
        }
      ]
    },
    {
      "cell_type": "code",
      "metadata": {
        "id": "WF4pX9bG6dPG"
      },
      "source": [
        "#on récupère les labels (la variable MPG)\n",
        "train_labels = train_dataset.pop('MPG')\n",
        "test_labels = test_dataset.pop('MPG')"
      ],
      "execution_count": 22,
      "outputs": []
    },
    {
      "cell_type": "code",
      "metadata": {
        "id": "kfdsbA2h6rU7"
      },
      "source": [
        "#Création de deux fonctions, l'une permettant de normaliser le dataset (l'écart à la moyenne diviser par l'écart-type)\n",
        "def norm(x):\n",
        "  return (x - train_stats['mean'])/ train_stats['std']\n",
        "\n",
        "normed_train_data = norm(train_dataset)\n",
        "normed_test_data = norm(test_dataset)\n",
        "\n",
        "# l'autre de standardiser (mettre à l'échelle la variable en utilisant son max)\n",
        "def stand(x):\n",
        "  return (x*1.0 / train_stats['max'])\n",
        "\n",
        "#On l'applique à nos deux jeux de données\n",
        "stand_train_data = stand(train_dataset)\n",
        "stand_test_data = stand(test_dataset)"
      ],
      "execution_count": 23,
      "outputs": []
    },
    {
      "cell_type": "code",
      "metadata": {
        "id": "ZuhDLWTK7ZQx",
        "colab": {
          "base_uri": "https://localhost:8080/",
          "height": 419
        },
        "outputId": "304f8ad4-7d62-46b1-83a6-614067fb0d7f"
      },
      "source": [
        "#Tout a été ramené à une échelle entre 0 et 1\n",
        "#On a une distribution centrée réduite autour de 0-1\n",
        "\n",
        "stand_train_data"
      ],
      "execution_count": 24,
      "outputs": [
        {
          "output_type": "execute_result",
          "data": {
            "text/html": [
              "<div>\n",
              "<style scoped>\n",
              "    .dataframe tbody tr th:only-of-type {\n",
              "        vertical-align: middle;\n",
              "    }\n",
              "\n",
              "    .dataframe tbody tr th {\n",
              "        vertical-align: top;\n",
              "    }\n",
              "\n",
              "    .dataframe thead th {\n",
              "        text-align: right;\n",
              "    }\n",
              "</style>\n",
              "<table border=\"1\" class=\"dataframe\">\n",
              "  <thead>\n",
              "    <tr style=\"text-align: right;\">\n",
              "      <th></th>\n",
              "      <th>Cylinders</th>\n",
              "      <th>Displacement</th>\n",
              "      <th>Horsepower</th>\n",
              "      <th>Weight</th>\n",
              "      <th>Acceleration</th>\n",
              "      <th>Model Age</th>\n",
              "      <th>Europe</th>\n",
              "      <th>Japan</th>\n",
              "      <th>USA</th>\n",
              "    </tr>\n",
              "  </thead>\n",
              "  <tbody>\n",
              "    <tr>\n",
              "      <th>69</th>\n",
              "      <td>1.00</td>\n",
              "      <td>0.769231</td>\n",
              "      <td>0.695652</td>\n",
              "      <td>0.891735</td>\n",
              "      <td>0.548780</td>\n",
              "      <td>0.960784</td>\n",
              "      <td>0.0</td>\n",
              "      <td>0.0</td>\n",
              "      <td>1.0</td>\n",
              "    </tr>\n",
              "    <tr>\n",
              "      <th>204</th>\n",
              "      <td>0.50</td>\n",
              "      <td>0.186813</td>\n",
              "      <td>0.304348</td>\n",
              "      <td>0.398239</td>\n",
              "      <td>0.691057</td>\n",
              "      <td>0.882353</td>\n",
              "      <td>0.0</td>\n",
              "      <td>1.0</td>\n",
              "      <td>0.0</td>\n",
              "    </tr>\n",
              "    <tr>\n",
              "      <th>156</th>\n",
              "      <td>1.00</td>\n",
              "      <td>0.879121</td>\n",
              "      <td>0.739130</td>\n",
              "      <td>0.934160</td>\n",
              "      <td>0.467480</td>\n",
              "      <td>0.901961</td>\n",
              "      <td>0.0</td>\n",
              "      <td>0.0</td>\n",
              "      <td>1.0</td>\n",
              "    </tr>\n",
              "    <tr>\n",
              "      <th>337</th>\n",
              "      <td>0.50</td>\n",
              "      <td>0.235165</td>\n",
              "      <td>0.313043</td>\n",
              "      <td>0.458275</td>\n",
              "      <td>0.691057</td>\n",
              "      <td>0.803922</td>\n",
              "      <td>0.0</td>\n",
              "      <td>1.0</td>\n",
              "      <td>0.0</td>\n",
              "    </tr>\n",
              "    <tr>\n",
              "      <th>386</th>\n",
              "      <td>0.75</td>\n",
              "      <td>0.397802</td>\n",
              "      <td>0.478261</td>\n",
              "      <td>0.589354</td>\n",
              "      <td>0.666667</td>\n",
              "      <td>0.764706</td>\n",
              "      <td>0.0</td>\n",
              "      <td>0.0</td>\n",
              "      <td>1.0</td>\n",
              "    </tr>\n",
              "    <tr>\n",
              "      <th>...</th>\n",
              "      <td>...</td>\n",
              "      <td>...</td>\n",
              "      <td>...</td>\n",
              "      <td>...</td>\n",
              "      <td>...</td>\n",
              "      <td>...</td>\n",
              "      <td>...</td>\n",
              "      <td>...</td>\n",
              "      <td>...</td>\n",
              "    </tr>\n",
              "    <tr>\n",
              "      <th>261</th>\n",
              "      <td>0.75</td>\n",
              "      <td>0.567033</td>\n",
              "      <td>0.521739</td>\n",
              "      <td>0.682409</td>\n",
              "      <td>0.613821</td>\n",
              "      <td>0.843137</td>\n",
              "      <td>0.0</td>\n",
              "      <td>0.0</td>\n",
              "      <td>1.0</td>\n",
              "    </tr>\n",
              "    <tr>\n",
              "      <th>290</th>\n",
              "      <td>1.00</td>\n",
              "      <td>0.771429</td>\n",
              "      <td>0.617391</td>\n",
              "      <td>0.811287</td>\n",
              "      <td>0.581301</td>\n",
              "      <td>0.823529</td>\n",
              "      <td>0.0</td>\n",
              "      <td>0.0</td>\n",
              "      <td>1.0</td>\n",
              "    </tr>\n",
              "    <tr>\n",
              "      <th>229</th>\n",
              "      <td>1.00</td>\n",
              "      <td>0.879121</td>\n",
              "      <td>0.782609</td>\n",
              "      <td>0.844507</td>\n",
              "      <td>0.451220</td>\n",
              "      <td>0.862745</td>\n",
              "      <td>0.0</td>\n",
              "      <td>0.0</td>\n",
              "      <td>1.0</td>\n",
              "    </tr>\n",
              "    <tr>\n",
              "      <th>173</th>\n",
              "      <td>0.50</td>\n",
              "      <td>0.261538</td>\n",
              "      <td>0.421739</td>\n",
              "      <td>0.509306</td>\n",
              "      <td>0.691057</td>\n",
              "      <td>0.901961</td>\n",
              "      <td>0.0</td>\n",
              "      <td>1.0</td>\n",
              "      <td>0.0</td>\n",
              "    </tr>\n",
              "    <tr>\n",
              "      <th>174</th>\n",
              "      <td>0.75</td>\n",
              "      <td>0.375824</td>\n",
              "      <td>0.421739</td>\n",
              "      <td>0.597158</td>\n",
              "      <td>0.589431</td>\n",
              "      <td>0.901961</td>\n",
              "      <td>0.0</td>\n",
              "      <td>0.0</td>\n",
              "      <td>1.0</td>\n",
              "    </tr>\n",
              "  </tbody>\n",
              "</table>\n",
              "<p>314 rows × 9 columns</p>\n",
              "</div>"
            ],
            "text/plain": [
              "     Cylinders  Displacement  Horsepower  ...  Europe  Japan  USA\n",
              "69        1.00      0.769231    0.695652  ...     0.0    0.0  1.0\n",
              "204       0.50      0.186813    0.304348  ...     0.0    1.0  0.0\n",
              "156       1.00      0.879121    0.739130  ...     0.0    0.0  1.0\n",
              "337       0.50      0.235165    0.313043  ...     0.0    1.0  0.0\n",
              "386       0.75      0.397802    0.478261  ...     0.0    0.0  1.0\n",
              "..         ...           ...         ...  ...     ...    ...  ...\n",
              "261       0.75      0.567033    0.521739  ...     0.0    0.0  1.0\n",
              "290       1.00      0.771429    0.617391  ...     0.0    0.0  1.0\n",
              "229       1.00      0.879121    0.782609  ...     0.0    0.0  1.0\n",
              "173       0.50      0.261538    0.421739  ...     0.0    1.0  0.0\n",
              "174       0.75      0.375824    0.421739  ...     0.0    0.0  1.0\n",
              "\n",
              "[314 rows x 9 columns]"
            ]
          },
          "metadata": {},
          "execution_count": 24
        }
      ]
    },
    {
      "cell_type": "code",
      "metadata": {
        "id": "2nkGuSTc7oIC",
        "colab": {
          "base_uri": "https://localhost:8080/"
        },
        "outputId": "f06bf94e-6933-49ee-c7c6-376e277a0ad1"
      },
      "source": [
        "\n",
        "train_labels"
      ],
      "execution_count": 25,
      "outputs": [
        {
          "output_type": "execute_result",
          "data": {
            "text/plain": [
              "69     12.0\n",
              "204    32.0\n",
              "156    16.0\n",
              "337    32.4\n",
              "386    25.0\n",
              "       ... \n",
              "261    18.1\n",
              "290    15.5\n",
              "229    16.0\n",
              "173    24.0\n",
              "174    18.0\n",
              "Name: MPG, Length: 314, dtype: float64"
            ]
          },
          "metadata": {},
          "execution_count": 25
        }
      ]
    },
    {
      "cell_type": "markdown",
      "metadata": {
        "id": "E0J6eYYh-Qwr"
      },
      "source": [
        "**SINGLE NEURONE OLS**"
      ]
    },
    {
      "cell_type": "code",
      "metadata": {
        "id": "1uQhOdUa_a1P"
      },
      "source": [
        "#Place au RDN\n",
        "# On veut porduire une régression linéaire multiple (OLS) => y = a1x1 + a2x2 + a3xx3 etc... + b\n",
        "# OLS => 1 neurone connecté à chacune des entrées\n",
        "#On va passer par un Gradient et itérer pour trouver la meilleure valeur des poids et de la constante\n",
        "#On va faire un learning rate pour obtenir ce résultat\n",
        "\n",
        "#On utilise Keras pour manipuler un modèle sous tensorflow\n",
        "#On import Layers \n",
        "from keras import layers"
      ],
      "execution_count": 26,
      "outputs": []
    },
    {
      "cell_type": "code",
      "metadata": {
        "id": "y0ua3NoQ8RYx"
      },
      "source": [
        "#Couche de Neurones Standard = Sequential => elles sont traitées l'une après l'autre en traversant le RdN couches après couches\n",
        "#On aura besoin que d'une couche dans laquelle on mettra un Neurone = Dense (1) avec une fonction d'activation 'linear' \n",
        "#Et une Taille d'entrée égale à la longueur du TrainSet normalisé -1 (on retire car une des trois modalités des Régions d'origine car \n",
        "#on veut une constante qui sera porté par le biais)\n",
        "\n",
        "# La fonction shape sert à préciser le nombre de variables\n",
        "\n",
        "def build_model():\n",
        "  model = keras.Sequential([\n",
        "    layers.Dense(1, activation='linear', input_shape=[len(stand_train_data.keys()) -1])\n",
        "    ])\n",
        "\n",
        "#Deuxième étape, je définis quel est mon optimizer => RMSprop (correspond à une régression) et on lui donne un learning rate\n",
        "\n",
        "\n",
        "  optimizer = tf.keras.optimizers.RMSprop(learning_rate = 0.2) #On peut changer le learning rate\n",
        "\n",
        "# On demande à Keras de compiler le modèle (compile). On a la fonction de perte MSE. \n",
        "#On y ajoute une metrics MAE en plus de MSE pour traquer l'apprentissage\n",
        "\n",
        "  model.compile(loss='mse',\n",
        "              optimizer=optimizer,\n",
        "              metrics=['mae','mse'])\n",
        "  return model\n",
        "\n",
        "#On peut relancer la fonction pour faire un nouvel apprentissage"
      ],
      "execution_count": 27,
      "outputs": []
    },
    {
      "cell_type": "code",
      "metadata": {
        "id": "J2Cblp3Y_O7x",
        "colab": {
          "base_uri": "https://localhost:8080/"
        },
        "outputId": "790a6e82-5520-4e91-d804-c26e18b3a9a9"
      },
      "source": [
        "#On cherche à minimiser l'erreur => sortie du Réseau de Neurones par rapport à la vraie valeur calculable avec la MSE.\n",
        "\n",
        "with tf.device('/device:CPU:0'):\n",
        "  model = build_model()\n",
        "  model.summary()\n",
        "\n",
        "#Ici, on voit que nous avons une couche d'1 Neurone avec 9 paramètres à optimiser\n",
        "\n",
        "#En relançant la fonction, la version change"
      ],
      "execution_count": 28,
      "outputs": [
        {
          "output_type": "stream",
          "text": [
            "Model: \"sequential\"\n",
            "_________________________________________________________________\n",
            "Layer (type)                 Output Shape              Param #   \n",
            "=================================================================\n",
            "dense (Dense)                (None, 1)                 9         \n",
            "=================================================================\n",
            "Total params: 9\n",
            "Trainable params: 9\n",
            "Non-trainable params: 0\n",
            "_________________________________________________________________\n"
          ],
          "name": "stdout"
        }
      ]
    },
    {
      "cell_type": "code",
      "metadata": {
        "id": "hhA-PtmZ_112",
        "colab": {
          "base_uri": "https://localhost:8080/"
        },
        "outputId": "5d33aeb3-5e3b-4938-ed18-5a43a6c39b7f"
      },
      "source": [
        "#On passe à l'apprentissage\n",
        "#On a retiré une des variables région\n",
        "\n",
        "\n",
        "#Le paramètre va passer 1500 fois dans le réseau \n",
        "EPOCHS = 1500\n",
        "REPORTSTEP = 420\n",
        "DOTS = 5\n",
        "\n",
        "with tf.device('/device:CPU:0'):\n",
        "\n",
        "  history = model.fit(\n",
        "  stand_train_data[['Cylinders', 'Displacement','Horsepower','Weight','Acceleration','Model Age','Japan','USA']],\n",
        "  train_labels,\n",
        "  epochs=EPOCHS, validation_split = 0.1, verbose=0,\n",
        "  callbacks=[tfdocs.modeling.EpochDots(report_every=REPORTSTEP,dot_every=DOTS)])\n",
        "  #fonction modeling de tfdocs pour pouvoir avoir l'avancement de mon apprentissage\n",
        "  #Il mettra à jour les statistiques tout les 500 step et affichera tous les petits points tout les 5 step\n",
        "  \n",
        "  #On arrive à une loss autour de 12, Une erreur moyenne (MAE) à 2.66 en fin de cycle \n",
        "  \n",
        "  #Nouveaux modèle avec un report tous 100 sur 800 itérations\n",
        "\n",
        "# On a deux jeux de données ici, la donnée sur l'apprentissage et la donnée sur la validation (10% du TrainSet)"
      ],
      "execution_count": 29,
      "outputs": [
        {
          "output_type": "stream",
          "text": [
            "\n",
            "Epoch: 0, loss:354.3789,  mae:15.9974,  mse:354.3789,  val_loss:239.0924,  val_mae:12.7668,  val_mse:239.0924,  \n",
            "....................................................................................\n",
            "Epoch: 420, loss:12.5842,  mae:2.7041,  mse:12.5842,  val_loss:13.4539,  val_mae:2.8028,  val_mse:13.4539,  \n",
            "....................................................................................\n",
            "Epoch: 840, loss:11.9681,  mae:2.6258,  mse:11.9681,  val_loss:12.1617,  val_mae:2.6691,  val_mse:12.1617,  \n",
            "....................................................................................\n",
            "Epoch: 1260, loss:11.8581,  mae:2.6439,  mse:11.8581,  val_loss:11.6593,  val_mae:2.5624,  val_mse:11.6593,  \n",
            "................................................"
          ],
          "name": "stdout"
        }
      ]
    },
    {
      "cell_type": "code",
      "metadata": {
        "colab": {
          "base_uri": "https://localhost:8080/"
        },
        "id": "XV9_tbTmkSCm",
        "outputId": "e14c63ca-21f5-4346-8d6b-51482d0dfaaf"
      },
      "source": [
        "#objet de Tensorflow contenant l'historique de l'apprentissage\n",
        "history "
      ],
      "execution_count": 30,
      "outputs": [
        {
          "output_type": "execute_result",
          "data": {
            "text/plain": [
              "<keras.callbacks.History at 0x7f3bf7e07d10>"
            ]
          },
          "metadata": {},
          "execution_count": 30
        }
      ]
    },
    {
      "cell_type": "code",
      "metadata": {
        "id": "lOVEcAnQB_FY",
        "colab": {
          "base_uri": "https://localhost:8080/",
          "height": 301
        },
        "outputId": "7631e255-fcd2-4fac-dd8b-c8cba993a88a"
      },
      "source": [
        "#On va pouvoir utiliser history pour tracer la courbe d'apprentissage et l'analyser \n",
        "\n",
        "# La courbe a chuté très vite (learning rate trop fort) et on voit qu'on plafonne des Epochs 500 à 1500 \n",
        "# => trop d'itération/Epoch \n",
        "#\n",
        "\n",
        "#Plot mse curve through learning steps\n",
        "plotter = tfdocs.plots.HistoryPlotter(smoothing_std = 2)\n",
        "plotter.plot({'Basic': history}, metric = 'mse')\n",
        "plt.ylim([10, 100])\n",
        "plt.xlim([0, 1500])\n",
        "plt.ylabel('mse [MPG]')"
      ],
      "execution_count": 31,
      "outputs": [
        {
          "output_type": "execute_result",
          "data": {
            "text/plain": [
              "Text(0, 0.5, 'mse [MPG]')"
            ]
          },
          "metadata": {},
          "execution_count": 31
        },
        {
          "output_type": "display_data",
          "data": {
            "image/png": "[encoded data removed]",
            "text/plain": [
              "<Figure size 432x288 with 1 Axes>"
            ]
          },
          "metadata": {
            "needs_background": "light"
          }
        }
      ]
    },
    {
      "cell_type": "code",
      "metadata": {
        "id": "uZSrT5R2GaNQ",
        "colab": {
          "base_uri": "https://localhost:8080/"
        },
        "outputId": "1f6cc9e8-c59e-4bbf-f184-8a4ec49989c9"
      },
      "source": [
        "#Get Regression Estimates\n",
        "\n",
        "#On peut accéder au poids et au biais via cette boucle \n",
        "#On a les 8 poids \n",
        "\n",
        "#En relançant le modèle (à partir de la définition des itérations, les poids et le biais continue d'être ajusté)\n",
        "\n",
        "for layer in model.layers:\n",
        "  print('weights : {0}'.format(layer.get_weights()[0]))\n",
        "  print('biases : {0}'.format(layer.get_weights()[1]))"
      ],
      "execution_count": 32,
      "outputs": [
        {
          "output_type": "stream",
          "text": [
            "weights : [[ -2.1962404 ]\n",
            " [  9.700414  ]\n",
            " [ -2.8983762 ]\n",
            " [-33.949936  ]\n",
            " [  3.841842  ]\n",
            " [-40.12573   ]\n",
            " [  0.77896965]\n",
            " [ -2.2927177 ]]\n",
            "biases : [77.75845]\n"
          ],
          "name": "stdout"
        }
      ]
    },
    {
      "cell_type": "markdown",
      "metadata": {
        "id": "S1XdM8qKlFKD"
      },
      "source": [
        "OLS Estimate (statsmodel)"
      ]
    },
    {
      "cell_type": "code",
      "metadata": {
        "id": "dtRghrq6lDwF",
        "colab": {
          "base_uri": "https://localhost:8080/"
        },
        "outputId": "04a00a4d-564c-414a-f9f9-8cfb7226a751"
      },
      "source": [
        "#Modèle OLS : produit matricielle donnant directement le résultat des coefficients minimisant la MSE\n",
        "# Import de statsmodels pour faire ça \n",
        "\n",
        "import statsmodels.api as sm\n",
        "\n",
        "#On déclare nos variables pour en afficher la liste \n",
        "#On ajoute également une constante\n",
        "#On demande au modèle de calculer les coefficients et d'afficher les résultats de la RL\n",
        "\n",
        "X = stand_train_data[['Cylinders','Displacement','Horsepower','Weight','Acceleration', 'Model Age', 'Japan', 'USA']]\n",
        "X = sm.add_constant(X)\n",
        "\n",
        "\n",
        "model = sm.OLS(train_labels, X, hasconst = True)\n",
        "results = model.fit()\n",
        "print(results.summary())"
      ],
      "execution_count": 33,
      "outputs": [
        {
          "output_type": "stream",
          "text": [
            "/usr/local/lib/python3.7/dist-packages/statsmodels/tools/_testing.py:19: FutureWarning: pandas.util.testing is deprecated. Use the functions in the public API at pandas.testing instead.\n",
            "  import pandas.util.testing as tm\n"
          ],
          "name": "stderr"
        },
        {
          "output_type": "stream",
          "text": [
            "                            OLS Regression Results                            \n",
            "==============================================================================\n",
            "Dep. Variable:                    MPG   R-squared:                       0.820\n",
            "Model:                            OLS   Adj. R-squared:                  0.815\n",
            "Method:                 Least Squares   F-statistic:                     173.2\n",
            "Date:                Wed, 25 Aug 2021   Prob (F-statistic):          1.26e-108\n",
            "Time:                        09:26:01   Log-Likelihood:                -828.93\n",
            "No. Observations:                 314   AIC:                             1676.\n",
            "Df Residuals:                     305   BIC:                             1710.\n",
            "Df Model:                           8                                         \n",
            "Covariance Type:            nonrobust                                         \n",
            "================================================================================\n",
            "                   coef    std err          t      P>|t|      [0.025      0.975]\n",
            "--------------------------------------------------------------------------------\n",
            "const           78.7534      3.637     21.651      0.000      71.596      85.911\n",
            "Cylinders       -3.4339      2.959     -1.161      0.247      -9.256       2.388\n",
            "Displacement     9.6815      3.966      2.441      0.015       1.878      17.485\n",
            "Horsepower      -2.2357      3.577     -0.625      0.532      -9.275       4.804\n",
            "Weight         -34.3757      3.666     -9.376      0.000     -41.590     -27.162\n",
            "Acceleration     3.5649      2.841      1.255      0.211      -2.026       9.156\n",
            "Model Age      -40.9823      3.124    -13.119      0.000     -47.129     -34.835\n",
            "Japan            0.0822      0.666      0.123      0.902      -1.229       1.394\n",
            "USA             -2.6372      0.658     -4.007      0.000      -3.932      -1.342\n",
            "==============================================================================\n",
            "Omnibus:                       16.799   Durbin-Watson:                   2.113\n",
            "Prob(Omnibus):                  0.000   Jarque-Bera (JB):               21.488\n",
            "Skew:                           0.439   Prob(JB):                     2.16e-05\n",
            "Kurtosis:                       3.934   Cond. No.                         53.9\n",
            "==============================================================================\n",
            "\n",
            "Warnings:\n",
            "[1] Standard Errors assume that the covariance matrix of the errors is correctly specified.\n"
          ],
          "name": "stdout"
        }
      ]
    },
    {
      "cell_type": "code",
      "metadata": {
        "id": "RV2oqLkd3UJc"
      },
      "source": [
        "#Constante estimé à 78 / Pour chaque variable un coefficient mathématiques a été calculé, statistiques que donne la RL\n",
        "\n",
        "#Probabilité de significativité du test de Student, le seuil de rejet de la variable\n",
        "\n",
        "# Les Variables calculées par l'OLS sont assez proches de celles du RdN\n",
        "\n",
        "#"
      ],
      "execution_count": 34,
      "outputs": []
    },
    {
      "cell_type": "code",
      "metadata": {
        "id": "aGTeYC0EmIBr",
        "colab": {
          "base_uri": "https://localhost:8080/"
        },
        "outputId": "4314169b-484f-4d6b-e372-5263370a052b"
      },
      "source": [
        "from statsmodels.tools import eval_measures\n",
        "print('OLS MSE value : {0}'.format(eval_measures.mse(train_labels, results.predict(X), axis=0)))\n",
        "\n",
        "#MSE à 11.49, meilleure estimation que le modèle peut obtenir sur ces données\n",
        "#MSE => écart entre les labels et la prédiction total"
      ],
      "execution_count": 35,
      "outputs": [
        {
          "output_type": "stream",
          "text": [
            "OLS MSE value : 11.495283803660966\n"
          ],
          "name": "stdout"
        }
      ]
    },
    {
      "cell_type": "code",
      "metadata": {
        "colab": {
          "base_uri": "https://localhost:8080/",
          "height": 301
        },
        "id": "hnG2F5Ov-wzF",
        "outputId": "2a731b80-a53c-4925-eb2a-cf5fe4c29ac4"
      },
      "source": [
        "#On trace la courbe des erreurs \n",
        "\n",
        "Xtest = sm.add_constant(stand_test_data[['Cylinders', 'Displacement', 'Horsepower', 'Weight', 'Acceleration', 'Model Age', 'Japan', 'USA']])\n",
        "test_predictions = results.predict(Xtest)\n",
        "\n",
        "a = plt.axes(aspect='equal')\n",
        "plt.scatter(test_labels, test_predictions)\n",
        "plt.xlabel('True Values [MPG]')\n",
        "plt.ylabel('Predictions [MPG]')\n",
        "lims = [0, 50]\n",
        "plt.xlim(lims)\n",
        "plt.ylim(lims)\n",
        "plt.plot(lims, lims)"
      ],
      "execution_count": 36,
      "outputs": [
        {
          "output_type": "execute_result",
          "data": {
            "text/plain": [
              "[<matplotlib.lines.Line2D at 0x7f3bd6e99c50>]"
            ]
          },
          "metadata": {},
          "execution_count": 36
        },
        {
          "output_type": "display_data",
          "data": {
            "image/png": "[encoded data removed]",
            "text/plain": [
              "<Figure size 432x288 with 1 Axes>"
            ]
          },
          "metadata": {
            "needs_background": "light"
          }
        }
      ]
    },
    {
      "cell_type": "markdown",
      "metadata": {
        "id": "fwvYlugIt-0O"
      },
      "source": [
        "#####LEARN A MORE COMPLEX MODEL"
      ]
    },
    {
      "cell_type": "code",
      "metadata": {
        "id": "7yI6Sie-uCrD"
      },
      "source": [
        "#Sur le même Dataset, on va rajouter plus de couches et plus de neurones\n",
        "#Modèle Séquentielle car les données passent de couche en couche avec une \n",
        "#Première couche de 64 neurones, activation de type linéaire\n",
        "#Deuxième couche de 32 neurones, de type relu (plate puis linéaire pour les valeurs positives)\n",
        "#relu accélère l'apprentissage + on sait qu'il ne peut y avoir de valeur négative\n",
        "#Sortie sur un neurone de type Dense qui donnera l'estimation\n",
        "\n",
        "\n",
        "def build_model():\n",
        "   model = keras.Sequential([\n",
        "     layers.Dense(128, activation='linear', input_shape=[len(train_dataset.keys())]),\n",
        "     layers.Dense(64, activation='relu'),\n",
        "     layers.Dense(1)\n",
        "  ])\n",
        "\n",
        "   optimizer = tf.keras.optimizers.RMSprop(0.001)\n",
        "\n",
        "#optimizer : mécanisme utilisé pour optimiser la Descente de Gradient\n",
        "\n",
        "   model.compile(loss='mse',\n",
        "                 optimizer=optimizer,\n",
        "                 metrics=['mae','mse'])\n",
        "   return model"
      ],
      "execution_count": 37,
      "outputs": []
    },
    {
      "cell_type": "code",
      "metadata": {
        "id": "OzgWR-57urfz",
        "colab": {
          "base_uri": "https://localhost:8080/"
        },
        "outputId": "d09bb7e3-145b-4480-fcdd-5ca19725fd04"
      },
      "source": [
        "#On a 97 neurones pour 2.753 paramètres, à chaque fois 1 poids et 8 varaibles en entrée\n",
        "# multiplié par 64 et par 32\n",
        "\n",
        "model_3L = build_model()\n",
        "model_3L.summary()"
      ],
      "execution_count": 38,
      "outputs": [
        {
          "output_type": "stream",
          "text": [
            "Model: \"sequential_1\"\n",
            "_________________________________________________________________\n",
            "Layer (type)                 Output Shape              Param #   \n",
            "=================================================================\n",
            "dense_1 (Dense)              (None, 128)               1280      \n",
            "_________________________________________________________________\n",
            "dense_2 (Dense)              (None, 64)                8256      \n",
            "_________________________________________________________________\n",
            "dense_3 (Dense)              (None, 1)                 65        \n",
            "=================================================================\n",
            "Total params: 9,601\n",
            "Trainable params: 9,601\n",
            "Non-trainable params: 0\n",
            "_________________________________________________________________\n"
          ],
          "name": "stdout"
        }
      ]
    },
    {
      "cell_type": "code",
      "metadata": {
        "id": "aeqhBeXlCxpy",
        "colab": {
          "base_uri": "https://localhost:8080/"
        },
        "outputId": "504184c6-5c81-48a3-8591-eefa81ba071b"
      },
      "source": [
        "example_batch = normed_train_data[:10]\n",
        "example_result = model_3L.predict(example_batch)\n",
        "example_result\n",
        "\n",
        "#Calcul pour s'assurer que le modèle fonctionne => on prend le TrainSet et on lui demande un predict de 10 lignes\n",
        "#Ici rien n'est encore entraîné"
      ],
      "execution_count": 39,
      "outputs": [
        {
          "output_type": "execute_result",
          "data": {
            "text/plain": [
              "array([[-0.17884633],\n",
              "       [ 0.4638591 ],\n",
              "       [-0.08737183],\n",
              "       [ 0.6295529 ],\n",
              "       [ 0.25389865],\n",
              "       [ 0.33287707],\n",
              "       [-0.0385353 ],\n",
              "       [ 0.54021865],\n",
              "       [ 0.22017476],\n",
              "       [-0.40396944]], dtype=float32)"
            ]
          },
          "metadata": {},
          "execution_count": 39
        }
      ]
    },
    {
      "cell_type": "code",
      "metadata": {
        "id": "CR59AS0YvqKs",
        "colab": {
          "base_uri": "https://localhost:8080/"
        },
        "outputId": "1f9ba2cf-ae0f-4f8e-be07-e9ddd39cce67"
      },
      "source": [
        "#On fait tourner l'apprentissage sur ce nouveau modèle à multiples neurones\n",
        "\n",
        "EPOCHS = 1000\n",
        "\n",
        "history = model_3L.fit(\n",
        "  stand_train_data, train_labels,\n",
        "  epochs=EPOCHS, validation_split = 0.2, verbose=0,\n",
        "  callbacks=[tfdocs.modeling.EpochDots()])\n",
        "\n",
        "#Avec un réseau plus complexe que les précédents, l'apprentissage permet de descendre plus bas dans le Gradient\n",
        "#On trouve donc quelque chose de plus précis car on donne la possibilité de détecter des relations non linéaires dans ce modèle"
      ],
      "execution_count": 40,
      "outputs": [
        {
          "output_type": "stream",
          "text": [
            "\n",
            "Epoch: 0, loss:553.7311,  mae:22.0806,  mse:553.7311,  val_loss:532.6760,  val_mae:21.5033,  val_mse:532.6760,  \n",
            "....................................................................................................\n",
            "Epoch: 100, loss:20.4744,  mae:3.4496,  mse:20.4744,  val_loss:25.1408,  val_mae:4.1961,  val_mse:25.1408,  \n",
            "....................................................................................................\n",
            "Epoch: 200, loss:14.4443,  mae:2.8322,  mse:14.4443,  val_loss:17.3077,  val_mae:3.3239,  val_mse:17.3077,  \n",
            "....................................................................................................\n",
            "Epoch: 300, loss:9.2993,  mae:2.2196,  mse:9.2993,  val_loss:12.5034,  val_mae:2.6248,  val_mse:12.5034,  \n",
            "....................................................................................................\n",
            "Epoch: 400, loss:8.4656,  mae:2.1263,  mse:8.4656,  val_loss:10.2992,  val_mae:2.5473,  val_mse:10.2992,  \n",
            "....................................................................................................\n",
            "Epoch: 500, loss:8.8745,  mae:2.2302,  mse:8.8745,  val_loss:10.6718,  val_mae:2.6580,  val_mse:10.6718,  \n",
            "....................................................................................................\n",
            "Epoch: 600, loss:8.2426,  mae:2.0320,  mse:8.2426,  val_loss:13.7568,  val_mae:3.1344,  val_mse:13.7568,  \n",
            "....................................................................................................\n",
            "Epoch: 700, loss:7.7747,  mae:1.9988,  mse:7.7747,  val_loss:10.1185,  val_mae:2.6107,  val_mse:10.1185,  \n",
            "....................................................................................................\n",
            "Epoch: 800, loss:7.7478,  mae:1.9687,  mse:7.7478,  val_loss:9.7224,  val_mae:2.5511,  val_mse:9.7224,  \n",
            "....................................................................................................\n",
            "Epoch: 900, loss:7.6622,  mae:1.9504,  mse:7.6622,  val_loss:9.6111,  val_mae:2.3787,  val_mse:9.6111,  \n",
            "...................................................................................................."
          ],
          "name": "stdout"
        }
      ]
    },
    {
      "cell_type": "code",
      "metadata": {
        "colab": {
          "base_uri": "https://localhost:8080/",
          "height": 419
        },
        "id": "RJfjf3BSurp6",
        "outputId": "5d634197-9b1b-4c3c-871d-6330de66423e"
      },
      "source": [
        "#On visualise le DataFrame\n",
        "\n",
        "hist = pd.DataFrame(history.history)\n",
        "hist['epoch'] = history.epoch\n",
        "hist"
      ],
      "execution_count": 41,
      "outputs": [
        {
          "output_type": "execute_result",
          "data": {
            "text/html": [
              "<div>\n",
              "<style scoped>\n",
              "    .dataframe tbody tr th:only-of-type {\n",
              "        vertical-align: middle;\n",
              "    }\n",
              "\n",
              "    .dataframe tbody tr th {\n",
              "        vertical-align: top;\n",
              "    }\n",
              "\n",
              "    .dataframe thead th {\n",
              "        text-align: right;\n",
              "    }\n",
              "</style>\n",
              "<table border=\"1\" class=\"dataframe\">\n",
              "  <thead>\n",
              "    <tr style=\"text-align: right;\">\n",
              "      <th></th>\n",
              "      <th>loss</th>\n",
              "      <th>mae</th>\n",
              "      <th>mse</th>\n",
              "      <th>val_loss</th>\n",
              "      <th>val_mae</th>\n",
              "      <th>val_mse</th>\n",
              "      <th>epoch</th>\n",
              "    </tr>\n",
              "  </thead>\n",
              "  <tbody>\n",
              "    <tr>\n",
              "      <th>0</th>\n",
              "      <td>553.731140</td>\n",
              "      <td>22.080606</td>\n",
              "      <td>553.731140</td>\n",
              "      <td>532.675964</td>\n",
              "      <td>21.503328</td>\n",
              "      <td>532.675964</td>\n",
              "      <td>0</td>\n",
              "    </tr>\n",
              "    <tr>\n",
              "      <th>1</th>\n",
              "      <td>442.160126</td>\n",
              "      <td>19.263493</td>\n",
              "      <td>442.160126</td>\n",
              "      <td>417.707977</td>\n",
              "      <td>18.491278</td>\n",
              "      <td>417.707977</td>\n",
              "      <td>1</td>\n",
              "    </tr>\n",
              "    <tr>\n",
              "      <th>2</th>\n",
              "      <td>332.356628</td>\n",
              "      <td>15.942913</td>\n",
              "      <td>332.356628</td>\n",
              "      <td>306.614319</td>\n",
              "      <td>14.963448</td>\n",
              "      <td>306.614319</td>\n",
              "      <td>2</td>\n",
              "    </tr>\n",
              "    <tr>\n",
              "      <th>3</th>\n",
              "      <td>233.516312</td>\n",
              "      <td>12.463714</td>\n",
              "      <td>233.516312</td>\n",
              "      <td>210.842697</td>\n",
              "      <td>11.637380</td>\n",
              "      <td>210.842697</td>\n",
              "      <td>3</td>\n",
              "    </tr>\n",
              "    <tr>\n",
              "      <th>4</th>\n",
              "      <td>160.531006</td>\n",
              "      <td>10.109363</td>\n",
              "      <td>160.531006</td>\n",
              "      <td>148.411087</td>\n",
              "      <td>9.594723</td>\n",
              "      <td>148.411087</td>\n",
              "      <td>4</td>\n",
              "    </tr>\n",
              "    <tr>\n",
              "      <th>...</th>\n",
              "      <td>...</td>\n",
              "      <td>...</td>\n",
              "      <td>...</td>\n",
              "      <td>...</td>\n",
              "      <td>...</td>\n",
              "      <td>...</td>\n",
              "      <td>...</td>\n",
              "    </tr>\n",
              "    <tr>\n",
              "      <th>995</th>\n",
              "      <td>7.480995</td>\n",
              "      <td>1.900782</td>\n",
              "      <td>7.480995</td>\n",
              "      <td>11.470689</td>\n",
              "      <td>2.891199</td>\n",
              "      <td>11.470689</td>\n",
              "      <td>995</td>\n",
              "    </tr>\n",
              "    <tr>\n",
              "      <th>996</th>\n",
              "      <td>7.528618</td>\n",
              "      <td>2.026173</td>\n",
              "      <td>7.528618</td>\n",
              "      <td>9.004008</td>\n",
              "      <td>2.361182</td>\n",
              "      <td>9.004008</td>\n",
              "      <td>996</td>\n",
              "    </tr>\n",
              "    <tr>\n",
              "      <th>997</th>\n",
              "      <td>7.465834</td>\n",
              "      <td>1.955394</td>\n",
              "      <td>7.465834</td>\n",
              "      <td>10.854452</td>\n",
              "      <td>2.785497</td>\n",
              "      <td>10.854452</td>\n",
              "      <td>997</td>\n",
              "    </tr>\n",
              "    <tr>\n",
              "      <th>998</th>\n",
              "      <td>7.472930</td>\n",
              "      <td>1.928034</td>\n",
              "      <td>7.472930</td>\n",
              "      <td>8.994048</td>\n",
              "      <td>2.396028</td>\n",
              "      <td>8.994048</td>\n",
              "      <td>998</td>\n",
              "    </tr>\n",
              "    <tr>\n",
              "      <th>999</th>\n",
              "      <td>7.833505</td>\n",
              "      <td>1.999177</td>\n",
              "      <td>7.833505</td>\n",
              "      <td>10.609928</td>\n",
              "      <td>2.744337</td>\n",
              "      <td>10.609928</td>\n",
              "      <td>999</td>\n",
              "    </tr>\n",
              "  </tbody>\n",
              "</table>\n",
              "<p>1000 rows × 7 columns</p>\n",
              "</div>"
            ],
            "text/plain": [
              "           loss        mae         mse  ...    val_mae     val_mse  epoch\n",
              "0    553.731140  22.080606  553.731140  ...  21.503328  532.675964      0\n",
              "1    442.160126  19.263493  442.160126  ...  18.491278  417.707977      1\n",
              "2    332.356628  15.942913  332.356628  ...  14.963448  306.614319      2\n",
              "3    233.516312  12.463714  233.516312  ...  11.637380  210.842697      3\n",
              "4    160.531006  10.109363  160.531006  ...   9.594723  148.411087      4\n",
              "..          ...        ...         ...  ...        ...         ...    ...\n",
              "995    7.480995   1.900782    7.480995  ...   2.891199   11.470689    995\n",
              "996    7.528618   2.026173    7.528618  ...   2.361182    9.004008    996\n",
              "997    7.465834   1.955394    7.465834  ...   2.785497   10.854452    997\n",
              "998    7.472930   1.928034    7.472930  ...   2.396028    8.994048    998\n",
              "999    7.833505   1.999177    7.833505  ...   2.744337   10.609928    999\n",
              "\n",
              "[1000 rows x 7 columns]"
            ]
          },
          "metadata": {},
          "execution_count": 41
        }
      ]
    }
  ]
}